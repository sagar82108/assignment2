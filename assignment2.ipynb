{
 "cells": [
  {
   "cell_type": "code",
   "execution_count": null,
   "id": "54c3e556-1324-4f84-8852-348ba7299c10",
   "metadata": {},
   "outputs": [],
   "source": [
    "#1 ans) def keyword is used to create a function\n",
    "#example def add(){ it create a function of name add}\n",
    "l=[]\n",
    "def odd(): # it create a function to return odd numbers in range 1 to 25\n",
    "    for i in range(1,25):\n",
    "        if i % 2==1:\n",
    "            l.append(i)\n",
    "    return l                \n",
    "\n",
    "odd()        \n"
   ]
  },
  {
   "cell_type": "code",
   "execution_count": null,
   "id": "06a2f23a-6f2b-4e79-8863-d0e07213d24f",
   "metadata": {},
   "outputs": [],
   "source": [
    "#2 ans) *args and **kwargs are special syntax used in function definitions to allow a function \n",
    " #        to accept a variable number of arguments.\n",
    "    \n",
    "    # The \"*args\" syntax allows a function to accept an arbitrary number of positional arguments, \n",
    "    # which are passed to the function as a tuple. Here is an example:\n",
    "def my_func(*args):\n",
    "    for arg in args:\n",
    "        print(arg)\n",
    "\n",
    "my_func(1, 2, 3, 4)\n",
    "# In this example, the my_func() function accepts any number of positional arguments,\n",
    "# which are collected into a tuple named args. The function then loops over the args tuple and prints each argument.\n",
    "# When we call my_func(1, 2, 3, 4)\n",
    "\n",
    "#The \"**kwargs\" syntax allows a function to accept an arbitrary number of keyword arguments\n",
    "#, which are passed to the function as a dictionary. Here is an example:\n",
    "\n",
    "def my_func(**kwargs):\n",
    "    for key, value in kwargs.items():\n",
    "        print(f\"{key}: {value}\")\n",
    "\n",
    "my_func(name=\"Alice\", age=30, city=\"New York\")\n",
    "#In this example, the my_func() function accepts any number of keyword arguments,\n",
    "#which are collected into a dictionary named kwargs. The function then loops over the kwargs dictionary and prints each key-value pair.\n",
    "#When we call my_func(name=\"Alice\", age=30, city=\"New York\")"
   ]
  },
  {
   "cell_type": "code",
   "execution_count": null,
   "id": "ace68a0e-f487-49b7-9c79-9cd87049ce47",
   "metadata": {},
   "outputs": [],
   "source": [
    "#3 ans) In Python, an iterator is an object that can be iterated (looped) upon. It is an object that implements the iterator protocol, \n",
    "#which consists of two methods:\n",
    "\n",
    "# 1.) __iter__(): This method returns the iterator object itself. \n",
    "#It is called when an iterator object is required for a collection.\n",
    "\n",
    "# 2.) __next__(): This method returns the next value from the iterator.\n",
    "#It raises the StopIteration exception when there are no more items to return.\n",
    "\n",
    "my_list = [2, 4, 6, 8, 10, 12, 14, 16,18,20]\n",
    "iterator = iter(my_list)\n",
    "\n",
    "for i in range(5):\n",
    "    print(next(iterator))\n"
   ]
  },
  {
   "cell_type": "code",
   "execution_count": null,
   "id": "fea11010-e2b4-4e83-addf-0a19d42ac554",
   "metadata": {},
   "outputs": [],
   "source": [
    "#4 ans) In Python, a generator function is a special type of function that returns an iterator object.\n",
    "#Unlike regular functions that return a value and then terminate,\n",
    "#generator functions use the yield keyword to temporarily suspend execution and return a value to the caller. \n",
    "#When the generator function is called again, execution resumes from where it left off and\n",
    "#continues until the next yield statement is encountered.\n",
    "\n",
    "# The yield keyword is used to specify the value that should be returned by the generator function.\n",
    "# When the yield statement is encountered, the value specified is returned to the caller,\n",
    "# and execution of the generator function is paused. The state of the function is saved, \n",
    "# including all local variables and the position of execution, so that it can be resumed later.\n",
    "\n",
    "#generator function to print even numbers\n",
    "\n",
    "def even_numbers(n):\n",
    "    i = 0\n",
    "    while i < n:\n",
    "        yield 2 * i\n",
    "        i += 1\n",
    "\n",
    "# Example usage:\n",
    "for num in even_numbers(5):\n",
    "    print(num)\n"
   ]
  },
  {
   "cell_type": "code",
   "execution_count": null,
   "id": "ee231245-2302-4a35-b733-cd45b6a93fd3",
   "metadata": {},
   "outputs": [],
   "source": [
    "# 5) here's an example of a generator function that generates prime numbers less than 1000:\n",
    "\n",
    "def primes():\n",
    "    num = 2\n",
    "    while num < 1000:\n",
    "        if all(num % i != 0 for i in range(2, int(num**0.5)+1)):\n",
    "            yield num\n",
    "        num += 1\n",
    "        \n",
    "prime_gen = primes()\n",
    "\n",
    "for i in range(20): #it prints the first 20 prime numbers\n",
    "    print(next(prime_gen))\n",
    "        \n",
    "\n"
   ]
  },
  {
   "cell_type": "code",
   "execution_count": null,
   "id": "4c72da8a-8413-46c0-895e-269ff4959feb",
   "metadata": {},
   "outputs": [],
   "source": [
    "#6) python program to print 10 fibonacci numbers using while loop\n",
    "\n",
    "a, b = 0, 1\n",
    "count = 0\n",
    "\n",
    "while count < 10:\n",
    "    print(a)\n",
    "    a, b = b, a+b\n",
    "    count += 1\n",
    "\n",
    "\n",
    "    \n",
    "    \n"
   ]
  },
  {
   "cell_type": "code",
   "execution_count": null,
   "id": "1019e55f-480f-4a94-9f06-f38244e38b2c",
   "metadata": {},
   "outputs": [],
   "source": [
    "#7 ) python program to print desired output\n",
    "string = 'pwskills'\n",
    "\n",
    "output = [char if char in 'pwskills' else None for char in string]\n",
    "\n",
    "print(output)\n"
   ]
  },
  {
   "cell_type": "code",
   "execution_count": null,
   "id": "719e9203-db59-49db-8162-e84ef8a66eef",
   "metadata": {},
   "outputs": [],
   "source": [
    "#8) program to find if a number is palindrome or not\n",
    "\n",
    "num = int(input(\"Enter a number: \"))\n",
    "temp = num\n",
    "rev = 0\n",
    "\n",
    "while temp > 0:\n",
    "    digit = temp % 10\n",
    "    rev = rev * 10 + digit\n",
    "    temp //= 10\n",
    "\n",
    "if num == rev:\n",
    "    print(num, \"is a palindrome\")\n",
    "else:\n",
    "    print(num, \"is not a palindrome\")\n"
   ]
  },
  {
   "cell_type": "code",
   "execution_count": null,
   "id": "232c6367-6b3e-47f1-868c-9e0dee359ee4",
   "metadata": {},
   "outputs": [],
   "source": [
    "#9) # Create a list of numbers from 1 to 100\n",
    "nums = [num for num in range(1, 101)]\n",
    "\n",
    "# Use another list comprehension to filter out the even numbers\n",
    "odds = [num for num in nums if num % 2 != 0]\n",
    "\n",
    "# Print the resulting list of odd numbers\n",
    "print(odds)\n"
   ]
  },
  {
   "cell_type": "code",
   "execution_count": null,
   "id": "ac276590-a97c-4966-9e3c-f3ae27242729",
   "metadata": {},
   "outputs": [],
   "source": []
  }
 ],
 "metadata": {
  "kernelspec": {
   "display_name": "Python 3 (ipykernel)",
   "language": "python",
   "name": "python3"
  },
  "language_info": {
   "codemirror_mode": {
    "name": "ipython",
    "version": 3
   },
   "file_extension": ".py",
   "mimetype": "text/x-python",
   "name": "python",
   "nbconvert_exporter": "python",
   "pygments_lexer": "ipython3",
   "version": "3.10.8"
  }
 },
 "nbformat": 4,
 "nbformat_minor": 5
}
